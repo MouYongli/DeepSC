{
 "cells": [
  {
   "cell_type": "code",
   "execution_count": null,
   "metadata": {},
   "outputs": [],
   "source": [
    "import anndata\n",
    "import pandas as pd\n",
    "import numpy as np\n",
    "\n",
    "example_h5ad_files = [\"/home/mou/DATA/mou/CellXGene/e2012ca6-059f-4af7-80fe-886579bfaeee.h5ad\", \"/home/mou/DATA/llm-research/CellXGene/c1f6034b-7973-45e1-85e7-16933d0550bc.h5ad\"]\n",
    "\n",
    "ann0 = anndata.read_h5ad(example_h5ad_files[0])\n",
    "ann1 = anndata.read_h5ad(example_h5ad_files[1])\n"
   ]
  }
 ],
 "metadata": {
  "kernelspec": {
   "display_name": "deepsc",
   "language": "python",
   "name": "python3"
  },
  "language_info": {
   "name": "python",
   "version": "3.11.11"
  }
 },
 "nbformat": 4,
 "nbformat_minor": 2
}
